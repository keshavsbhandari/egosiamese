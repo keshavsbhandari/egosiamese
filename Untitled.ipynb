{
 "cells": [
  {
   "cell_type": "code",
   "execution_count": 17,
   "id": "eccc925d-5157-4994-9324-fb0b94277814",
   "metadata": {},
   "outputs": [],
   "source": [
    "from Utils.egogetter import VideoGetter\n",
    "from tqdm import tqdm\n",
    "from pathlib import Path"
   ]
  },
  {
   "cell_type": "code",
   "execution_count": 19,
   "id": "7a85dc59-a7c6-45bf-89f8-8631aba9bf5b",
   "metadata": {},
   "outputs": [],
   "source": [
    "vd = VideoGetter(root = \"/data/keshav/360/finalEgok360/data/\", mode = 'train')"
   ]
  },
  {
   "cell_type": "code",
   "execution_count": 46,
   "id": "405f9a96-eac5-4b3d-90a3-e568d4edb576",
   "metadata": {},
   "outputs": [],
   "source": [
    "c = {}\n",
    "for spatial in vd.spatial:\n",
    "    key = spatial.parent.parent.parent.name.lower()\n",
    "    n = len(sorted(spatial.glob('*')))\n",
    "    if key not in c:\n",
    "        c[key] = [n]\n",
    "    else:\n",
    "        c[key].append(n)"
   ]
  },
  {
   "cell_type": "code",
   "execution_count": 47,
   "id": "47980df7-9ea4-4fda-b47a-3e431ec4b049",
   "metadata": {},
   "outputs": [
    {
     "data": {
      "text/plain": [
       "{'desk_work': [230, 103, 10, 8, 31, 63, 117],\n",
       " 'driving': [16, 19, 230, 26, 8, 4, 5],\n",
       " 'lunch': [23, 84, 18, 32, 32],\n",
       " 'office_talk': [4, 230, 24, 65, 24],\n",
       " 'ping-pong': [5, 230, 66, 230, 112],\n",
       " 'playing_cards': [230, 110, 5, 47],\n",
       " 'playing_pool': [20, 4, 158, 32, 60, 29, 31],\n",
       " 'running': [63, 230, 28],\n",
       " 'sitting': [35, 94, 10, 6, 230, 4, 4],\n",
       " 'stairs': [50, 134, 4, 52, 58, 123],\n",
       " 'standing': [21, 230],\n",
       " 'walking': [20, 25, 31, 75, 230]}"
      ]
     },
     "execution_count": 47,
     "metadata": {},
     "output_type": "execute_result"
    }
   ],
   "source": [
    "c"
   ]
  },
  {
   "cell_type": "code",
   "execution_count": 43,
   "id": "54ea3a96-4c55-44ac-a03a-bee22d3991b7",
   "metadata": {},
   "outputs": [],
   "source": [
    "# len(vd.spatial)"
   ]
  },
  {
   "cell_type": "code",
   "execution_count": 41,
   "id": "feb5a9b6-fbe1-4ae6-9a46-29d274673af7",
   "metadata": {},
   "outputs": [
    {
     "data": {
      "text/plain": [
       "[(4,\n",
       "  PosixPath('/data/keshav/360/finalEgok360/data/Driving/Turn_left/train/frames')),\n",
       " (4,\n",
       "  PosixPath('/data/keshav/360/finalEgok360/data/Office_talk/Check_phone/train/frames')),\n",
       " (4,\n",
       "  PosixPath('/data/keshav/360/finalEgok360/data/Playing_pool/Check_phone/train/frames')),\n",
       " (4,\n",
       "  PosixPath('/data/keshav/360/finalEgok360/data/Sitting/Turn_left/train/frames')),\n",
       " (4,\n",
       "  PosixPath('/data/keshav/360/finalEgok360/data/Sitting/Turn_right/train/frames')),\n",
       " (4,\n",
       "  PosixPath('/data/keshav/360/finalEgok360/data/Stairs/Reach/train/frames')),\n",
       " (5,\n",
       "  PosixPath('/data/keshav/360/finalEgok360/data/Driving/Turn_right/train/frames')),\n",
       " (5,\n",
       "  PosixPath('/data/keshav/360/finalEgok360/data/Ping-Pong/Bounce_ball/train/frames')),\n",
       " (5,\n",
       "  PosixPath('/data/keshav/360/finalEgok360/data/Playing_cards/Shuffle/train/frames')),\n",
       " (6,\n",
       "  PosixPath('/data/keshav/360/finalEgok360/data/Sitting/Reach/train/frames')),\n",
       " (8,\n",
       "  PosixPath('/data/keshav/360/finalEgok360/data/Desk_work/Stand_up/train/frames')),\n",
       " (8,\n",
       "  PosixPath('/data/keshav/360/finalEgok360/data/Driving/Stop/train/frames')),\n",
       " (10,\n",
       "  PosixPath('/data/keshav/360/finalEgok360/data/Desk_work/Sit_down/train/frames')),\n",
       " (10,\n",
       "  PosixPath('/data/keshav/360/finalEgok360/data/Sitting/Follow_obj/train/frames')),\n",
       " (16,\n",
       "  PosixPath('/data/keshav/360/finalEgok360/data/Driving/Accelerate/train/frames')),\n",
       " (18,\n",
       "  PosixPath('/data/keshav/360/finalEgok360/data/Lunch/Ordering/train/frames')),\n",
       " (19,\n",
       "  PosixPath('/data/keshav/360/finalEgok360/data/Driving/Decelerate/train/frames')),\n",
       " (20,\n",
       "  PosixPath('/data/keshav/360/finalEgok360/data/Playing_pool/Chalk_up/train/frames')),\n",
       " (20,\n",
       "  PosixPath('/data/keshav/360/finalEgok360/data/Walking/Breezeway/train/frames')),\n",
       " (21,\n",
       "  PosixPath('/data/keshav/360/finalEgok360/data/Standing/Leaning/train/frames')),\n",
       " (23,\n",
       "  PosixPath('/data/keshav/360/finalEgok360/data/Lunch/Drinking/train/frames')),\n",
       " (24,\n",
       "  PosixPath('/data/keshav/360/finalEgok360/data/Office_talk/Reach/train/frames')),\n",
       " (24,\n",
       "  PosixPath('/data/keshav/360/finalEgok360/data/Office_talk/Turn_right/train/frames')),\n",
       " (25,\n",
       "  PosixPath('/data/keshav/360/finalEgok360/data/Walking/Crossing_street/train/frames')),\n",
       " (26,\n",
       "  PosixPath('/data/keshav/360/finalEgok360/data/Driving/Still/train/frames')),\n",
       " (28,\n",
       "  PosixPath('/data/keshav/360/finalEgok360/data/Running/Turn_around/train/frames')),\n",
       " (29,\n",
       "  PosixPath('/data/keshav/360/finalEgok360/data/Playing_pool/Turn_left/train/frames')),\n",
       " (31,\n",
       "  PosixPath('/data/keshav/360/finalEgok360/data/Desk_work/Turn_left/train/frames')),\n",
       " (31,\n",
       "  PosixPath('/data/keshav/360/finalEgok360/data/Playing_pool/Turn_right/train/frames')),\n",
       " (31,\n",
       "  PosixPath('/data/keshav/360/finalEgok360/data/Walking/Doorway/train/frames')),\n",
       " (32,\n",
       "  PosixPath('/data/keshav/360/finalEgok360/data/Lunch/Turn_left/train/frames')),\n",
       " (32,\n",
       "  PosixPath('/data/keshav/360/finalEgok360/data/Lunch/Turn_right/train/frames')),\n",
       " (32,\n",
       "  PosixPath('/data/keshav/360/finalEgok360/data/Playing_pool/Reach/train/frames')),\n",
       " (35,\n",
       "  PosixPath('/data/keshav/360/finalEgok360/data/Sitting/At_computer/train/frames')),\n",
       " (47,\n",
       "  PosixPath('/data/keshav/360/finalEgok360/data/Playing_cards/Take_card/train/frames')),\n",
       " (50,\n",
       "  PosixPath('/data/keshav/360/finalEgok360/data/Stairs/Doorway/train/frames')),\n",
       " (52,\n",
       "  PosixPath('/data/keshav/360/finalEgok360/data/Stairs/Turn_left/train/frames')),\n",
       " (58,\n",
       "  PosixPath('/data/keshav/360/finalEgok360/data/Stairs/Turn_right/train/frames')),\n",
       " (60,\n",
       "  PosixPath('/data/keshav/360/finalEgok360/data/Playing_pool/Shooting/train/frames')),\n",
       " (63,\n",
       "  PosixPath('/data/keshav/360/finalEgok360/data/Desk_work/Turn_right/train/frames')),\n",
       " (63,\n",
       "  PosixPath('/data/keshav/360/finalEgok360/data/Running/Looking_at/train/frames')),\n",
       " (65,\n",
       "  PosixPath('/data/keshav/360/finalEgok360/data/Office_talk/Turn_left/train/frames')),\n",
       " (66,\n",
       "  PosixPath('/data/keshav/360/finalEgok360/data/Ping-Pong/Pickup_ball/train/frames')),\n",
       " (75,\n",
       "  PosixPath('/data/keshav/360/finalEgok360/data/Walking/Hallway/train/frames')),\n",
       " (84,\n",
       "  PosixPath('/data/keshav/360/finalEgok360/data/Lunch/Eating/train/frames')),\n",
       " (94,\n",
       "  PosixPath('/data/keshav/360/finalEgok360/data/Sitting/Check_phone/train/frames')),\n",
       " (103,\n",
       "  PosixPath('/data/keshav/360/finalEgok360/data/Desk_work/Napping/train/frames')),\n",
       " (110,\n",
       "  PosixPath('/data/keshav/360/finalEgok360/data/Playing_cards/Put_card/train/frames')),\n",
       " (112,\n",
       "  PosixPath('/data/keshav/360/finalEgok360/data/Ping-Pong/Serve/train/frames')),\n",
       " (117,\n",
       "  PosixPath('/data/keshav/360/finalEgok360/data/Desk_work/Writing/train/frames')),\n",
       " (123,\n",
       "  PosixPath('/data/keshav/360/finalEgok360/data/Stairs/Up_stairs/train/frames')),\n",
       " (134,\n",
       "  PosixPath('/data/keshav/360/finalEgok360/data/Stairs/Down_stairs/train/frames')),\n",
       " (158,\n",
       "  PosixPath('/data/keshav/360/finalEgok360/data/Playing_pool/Playing_pool/train/frames')),\n",
       " (230,\n",
       "  PosixPath('/data/keshav/360/finalEgok360/data/Desk_work/Desk_work/train/frames')),\n",
       " (230,\n",
       "  PosixPath('/data/keshav/360/finalEgok360/data/Driving/Driving/train/frames')),\n",
       " (230,\n",
       "  PosixPath('/data/keshav/360/finalEgok360/data/Office_talk/Office_talk/train/frames')),\n",
       " (230,\n",
       "  PosixPath('/data/keshav/360/finalEgok360/data/Ping-Pong/Hit/train/frames')),\n",
       " (230,\n",
       "  PosixPath('/data/keshav/360/finalEgok360/data/Ping-Pong/Ping-Pong/train/frames')),\n",
       " (230,\n",
       "  PosixPath('/data/keshav/360/finalEgok360/data/Playing_cards/Playing_cards/train/frames')),\n",
       " (230,\n",
       "  PosixPath('/data/keshav/360/finalEgok360/data/Running/Running/train/frames')),\n",
       " (230,\n",
       "  PosixPath('/data/keshav/360/finalEgok360/data/Sitting/Sitting/train/frames')),\n",
       " (230,\n",
       "  PosixPath('/data/keshav/360/finalEgok360/data/Standing/Standing/train/frames')),\n",
       " (230,\n",
       "  PosixPath('/data/keshav/360/finalEgok360/data/Walking/Walking/train/frames'))]"
      ]
     },
     "execution_count": 41,
     "metadata": {},
     "output_type": "execute_result"
    }
   ],
   "source": [
    "sorted(c)"
   ]
  },
  {
   "cell_type": "code",
   "execution_count": 20,
   "id": "b814589a-c122-42c9-acd4-0a497c2bce2f",
   "metadata": {},
   "outputs": [],
   "source": [
    "# vd.frames_list"
   ]
  },
  {
   "cell_type": "code",
   "execution_count": 21,
   "id": "9ebb26b5-75b0-4b86-a6be-2ae3f1beffbe",
   "metadata": {},
   "outputs": [
    {
     "name": "stderr",
     "output_type": "stream",
     "text": [
      "100%|██████████████████████████████████████████████████████████████████████████████████████████████████████████████████████████████████████████████████████████████████████████████████████████████████████████████████████████████████████████████████████████████████████████████████████████████████████████████████████████████████████████████████████████████████████████████████| 4532/4532 [00:04<00:00, 945.24it/s]\n"
     ]
    }
   ],
   "source": [
    "for v in tqdm(vd):\n",
    "    for frame in v['frame']:\n",
    "        assert frame.exists(), f\"{frame} doesn't exists\"\n",
    "    for flow in v['flow']:\n",
    "        assert flow.exists(), f\"{flow} doesn't exists\""
   ]
  },
  {
   "cell_type": "code",
   "execution_count": 16,
   "id": "ebf05ddd-585b-492f-8d23-737ed494f200",
   "metadata": {},
   "outputs": [],
   "source": [
    "# v"
   ]
  },
  {
   "cell_type": "code",
   "execution_count": 5,
   "id": "9817dcdb-d9ae-4b4c-8504-db1becd5f996",
   "metadata": {},
   "outputs": [
    {
     "name": "stdout",
     "output_type": "stream",
     "text": [
      "\u001b[0m\u001b[01;35m0000.jpg\u001b[0m  \u001b[01;35m0003.jpg\u001b[0m  \u001b[01;35m0006.jpg\u001b[0m  \u001b[01;35m0009.jpg\u001b[0m  \u001b[01;35m0012.jpg\u001b[0m  \u001b[01;35m0015.jpg\u001b[0m  \u001b[01;35m0018.jpg\u001b[0m\n",
      "\u001b[01;35m0001.jpg\u001b[0m  \u001b[01;35m0004.jpg\u001b[0m  \u001b[01;35m0007.jpg\u001b[0m  \u001b[01;35m0010.jpg\u001b[0m  \u001b[01;35m0013.jpg\u001b[0m  \u001b[01;35m0016.jpg\u001b[0m  \u001b[01;35m0019.jpg\u001b[0m\n",
      "\u001b[01;35m0002.jpg\u001b[0m  \u001b[01;35m0005.jpg\u001b[0m  \u001b[01;35m0008.jpg\u001b[0m  \u001b[01;35m0011.jpg\u001b[0m  \u001b[01;35m0014.jpg\u001b[0m  \u001b[01;35m0017.jpg\u001b[0m  \u001b[01;35m0020.jpg\u001b[0m\n"
     ]
    }
   ],
   "source": [
    "ls /data/keshav/360/finalEgok360/data/Desk_work/Sit_down/test/frames/00000"
   ]
  },
  {
   "cell_type": "code",
   "execution_count": 10,
   "id": "825efe5b-1384-4a0d-b386-1084d5f97698",
   "metadata": {},
   "outputs": [],
   "source": [
    "frames = sorted(Path(\"/data/keshav/360/finalEgok360/data/Desk_work/Sit_down/test/frames/00000\").glob(\"*.jpg\"))"
   ]
  },
  {
   "cell_type": "code",
   "execution_count": 12,
   "id": "a88c7a73-0439-4c60-85e4-6f7ccbf5f829",
   "metadata": {},
   "outputs": [],
   "source": [
    "frames = frames[(len(frames)//2 - 10//2):(len(frames)//2+10//2)]"
   ]
  },
  {
   "cell_type": "code",
   "execution_count": 13,
   "id": "63cf2a6e-e7a4-4054-9c87-85a96351f0a4",
   "metadata": {},
   "outputs": [
    {
     "data": {
      "text/plain": [
       "[PosixPath('/data/keshav/360/finalEgok360/data/Desk_work/Sit_down/test/frames/00000/0005.jpg'),\n",
       " PosixPath('/data/keshav/360/finalEgok360/data/Desk_work/Sit_down/test/frames/00000/0006.jpg'),\n",
       " PosixPath('/data/keshav/360/finalEgok360/data/Desk_work/Sit_down/test/frames/00000/0007.jpg'),\n",
       " PosixPath('/data/keshav/360/finalEgok360/data/Desk_work/Sit_down/test/frames/00000/0008.jpg'),\n",
       " PosixPath('/data/keshav/360/finalEgok360/data/Desk_work/Sit_down/test/frames/00000/0009.jpg'),\n",
       " PosixPath('/data/keshav/360/finalEgok360/data/Desk_work/Sit_down/test/frames/00000/0010.jpg'),\n",
       " PosixPath('/data/keshav/360/finalEgok360/data/Desk_work/Sit_down/test/frames/00000/0011.jpg'),\n",
       " PosixPath('/data/keshav/360/finalEgok360/data/Desk_work/Sit_down/test/frames/00000/0012.jpg'),\n",
       " PosixPath('/data/keshav/360/finalEgok360/data/Desk_work/Sit_down/test/frames/00000/0013.jpg'),\n",
       " PosixPath('/data/keshav/360/finalEgok360/data/Desk_work/Sit_down/test/frames/00000/0014.jpg')]"
      ]
     },
     "execution_count": 13,
     "metadata": {},
     "output_type": "execute_result"
    }
   ],
   "source": [
    "frames"
   ]
  },
  {
   "cell_type": "code",
   "execution_count": 11,
   "id": "b773b498-9075-48f5-980c-41bf62b1a371",
   "metadata": {},
   "outputs": [
    {
     "data": {
      "text/plain": [
       "{'s_label': 'desk_work',\n",
       " 'm_label': 'sit_down',\n",
       " 'label': 'desk_work_sit_down',\n",
       " 'frame': [PosixPath('/data/keshav/360/finalEgok360/data/Desk_work/Sit_down/test/frames/00000/0011.jpg'),\n",
       "  PosixPath('/data/keshav/360/finalEgok360/data/Desk_work/Sit_down/test/frames/00000/0012.jpg'),\n",
       "  PosixPath('/data/keshav/360/finalEgok360/data/Desk_work/Sit_down/test/frames/00000/0013.jpg'),\n",
       "  PosixPath('/data/keshav/360/finalEgok360/data/Desk_work/Sit_down/test/frames/00000/0014.jpg'),\n",
       "  PosixPath('/data/keshav/360/finalEgok360/data/Desk_work/Sit_down/test/frames/00000/0015.jpg'),\n",
       "  PosixPath('/data/keshav/360/finalEgok360/data/Desk_work/Sit_down/test/frames/00000/0016.jpg'),\n",
       "  PosixPath('/data/keshav/360/finalEgok360/data/Desk_work/Sit_down/test/frames/00000/0017.jpg'),\n",
       "  PosixPath('/data/keshav/360/finalEgok360/data/Desk_work/Sit_down/test/frames/00000/0018.jpg'),\n",
       "  PosixPath('/data/keshav/360/finalEgok360/data/Desk_work/Sit_down/test/frames/00000/0019.jpg'),\n",
       "  PosixPath('/data/keshav/360/finalEgok360/data/Desk_work/Sit_down/test/frames/00000/0020.jpg')],\n",
       " 'flow': [PosixPath('/data/keshav/360/finalEgok360/data/Desk_work/Sit_down/test/flows/00000/0010.npy'),\n",
       "  PosixPath('/data/keshav/360/finalEgok360/data/Desk_work/Sit_down/test/flows/00000/0011.npy'),\n",
       "  PosixPath('/data/keshav/360/finalEgok360/data/Desk_work/Sit_down/test/flows/00000/0012.npy'),\n",
       "  PosixPath('/data/keshav/360/finalEgok360/data/Desk_work/Sit_down/test/flows/00000/0013.npy'),\n",
       "  PosixPath('/data/keshav/360/finalEgok360/data/Desk_work/Sit_down/test/flows/00000/0014.npy'),\n",
       "  PosixPath('/data/keshav/360/finalEgok360/data/Desk_work/Sit_down/test/flows/00000/0015.npy'),\n",
       "  PosixPath('/data/keshav/360/finalEgok360/data/Desk_work/Sit_down/test/flows/00000/0016.npy'),\n",
       "  PosixPath('/data/keshav/360/finalEgok360/data/Desk_work/Sit_down/test/flows/00000/0017.npy'),\n",
       "  PosixPath('/data/keshav/360/finalEgok360/data/Desk_work/Sit_down/test/flows/00000/0018.npy'),\n",
       "  PosixPath('/data/keshav/360/finalEgok360/data/Desk_work/Sit_down/test/flows/00000/0019.npy')]}"
      ]
     },
     "execution_count": 11,
     "metadata": {},
     "output_type": "execute_result"
    }
   ],
   "source": [
    "v"
   ]
  },
  {
   "cell_type": "code",
   "execution_count": null,
   "id": "77d7becc-6663-47be-9cae-76c45353489d",
   "metadata": {},
   "outputs": [],
   "source": []
  }
 ],
 "metadata": {
  "kernelspec": {
   "display_name": "torch11",
   "language": "python",
   "name": "torch11"
  },
  "language_info": {
   "codemirror_mode": {
    "name": "ipython",
    "version": 3
   },
   "file_extension": ".py",
   "mimetype": "text/x-python",
   "name": "python",
   "nbconvert_exporter": "python",
   "pygments_lexer": "ipython3",
   "version": "3.8.12"
  }
 },
 "nbformat": 4,
 "nbformat_minor": 5
}
